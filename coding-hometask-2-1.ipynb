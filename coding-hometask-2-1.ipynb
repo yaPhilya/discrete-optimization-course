{
 "cells": [
  {
   "cell_type": "markdown",
   "metadata": {},
   "source": [
    "# Задание по курсу «Дискретная оптимизация», МФТИ, весна 2017"
   ]
  },
  {
   "cell_type": "markdown",
   "metadata": {},
   "source": [
    "## Задача 2-1. Применяем простейший локальный поиск.\n",
    "\n",
    "В этой задаче Вам предлагается попробовать стандартную технику локального поиска (local search) в применении к задаче о сбалансированном разбиении графа. Мы будем рассматривать безвесовый вариант задачи с параметром балансировки $\\alpha=\\frac{1}{2}$:\n",
    "\n",
    "**Даны:**\n",
    "* $G=(V,E)$ — граф без весов на рёбрах\n",
    "\n",
    "**Найти:**\n",
    "* Разбиение $V=V'\\sqcup V''$, такое, что $V'=\\lfloor |V|/2 \\rfloor$ и число рёбер между $V'$ и $V''$ минимально возможное.\n",
    "\n",
    "Сделайте следующее:\n",
    "* [Скачайте](http://mat.gsia.cmu.edu/COLOR/instances.html#XXMYC) файлы mycielX.col  (`for X in range(1,8)`).  (Если интересно, откуда такие графы берутся и чем интересны, см. конструкцию Зыкова—Мыцельского [здесь](https://docs.com/dainiak/3327).)\n",
    "* Для каждого из графов найдите локальным поиском локально минимальное (по количеству рёбер между частями) разбиение вершин графа на две части, мощности которых отличаются не более чем на единицу. \n",
    "* Ваша функция `basic_local_search` должна принимать на вход граф в формате, предоставляемом функцией `read_col_file`, и возвращать найденное локально минимальное разбиение просто как множество либо список вершин, лежащих в одной любой из двух компонент разбиения."
   ]
  },
  {
   "cell_type": "code",
   "execution_count": 3,
   "metadata": {
    "collapsed": true
   },
   "outputs": [],
   "source": [
    "def read_col_file(filename):\n",
    "    with open(filename, 'r') as file:\n",
    "        vertices, edges = set(), set()\n",
    "        for line in file:\n",
    "            line = line.strip()\n",
    "            if line.startswith('p'):\n",
    "                vertices = set(range(1, int(line.split()[-2]) + 1))\n",
    "            elif line.startswith('e'):\n",
    "                edges.add(tuple(map(int, line.split()[-2:])))\n",
    "        return (vertices, edges)"
   ]
  },
  {
   "cell_type": "code",
   "execution_count": 4,
   "metadata": {
    "collapsed": false
   },
   "outputs": [],
   "source": [
    "import random\n",
    "from itertools import permutations\n",
    "import numpy as np"
   ]
  },
  {
   "cell_type": "code",
   "execution_count": 5,
   "metadata": {
    "collapsed": false
   },
   "outputs": [],
   "source": [
    "def count_edges(edges, cut):\n",
    "    ans = 0\n",
    "    for edge in edges:\n",
    "        if not(set(edge) <= cut[0] or set(edge) <= cut[1]):\n",
    "            ans += 1\n",
    "    return ans"
   ]
  },
  {
   "cell_type": "code",
   "execution_count": 5,
   "metadata": {
    "collapsed": true
   },
   "outputs": [],
   "source": [
    "def get_random_cut(vert):\n",
    "    part = set(random.sample(vert, len(vert) // 2))\n",
    "    cut = [part, vert - part]\n",
    "    return cut"
   ]
  },
  {
   "cell_type": "code",
   "execution_count": 6,
   "metadata": {
    "collapsed": false
   },
   "outputs": [],
   "source": [
    "def find_nearest(edges, cut, k):\n",
    "    test = [set(), set()]\n",
    "    ans = [set(), set()]\n",
    "    best_dist = count_edges(edges, cut)\n",
    "    for first in permutations(cut[0], k):\n",
    "        for second in permutations(cut[1], k):\n",
    "            pool_set = set(first).union(set(second))\n",
    "            for i in permutations(pool_set, k):\n",
    "                left = set(i)\n",
    "                right = pool_set.difference(left)\n",
    "                test[0] = cut[0].union(left).difference(right)\n",
    "                test[1] = cut[1].union(right).difference(left)\n",
    "                dist = count_edges(edges, test)\n",
    "                if dist < best_dist:\n",
    "                    best_dist, ans = dist, test.copy()\n",
    "    return ans"
   ]
  },
  {
   "cell_type": "code",
   "execution_count": 6,
   "metadata": {
    "collapsed": true
   },
   "outputs": [],
   "source": [
    "def basic_local_search(graph):\n",
    "    vertices = graph[0]\n",
    "    edges = graph[1]\n",
    "    new_edges = [[] for i in range(len(graph[0]) + 1)]\n",
    "    for edge in edges:\n",
    "        new_edges[edge[0]].append(edge[1])\n",
    "        new_edges[edge[1]].append(edge[0])\n",
    "    cut = [set(range(1, len(graph[0]) // 2 + 1)), vertices.difference(set(range(1, len(graph[0]) // 2 + 1)))]\n",
    "    \n",
    "    np_cut = np.zeros(len(vertices) + 1)\n",
    "    np_cut[list(cut[1])] = 1\n",
    "    \n",
    "    sum_vert = np.zeros(len(vertices) + 1)\n",
    "    for v in range(1, len(vertices) + 1):\n",
    "        sum_vert[v] = np_cut[new_edges[v]].sum()\n",
    "    cnt_edge = np.zeros(len(vertices) + 1)\n",
    "    for v in vertices:\n",
    "        cnt_edge[v] = len(new_edges[v])\n",
    "    current = count_edges(edges, cut)\n",
    "    while True:\n",
    "        res = False\n",
    "        cur_dist = current\n",
    "        for i in range(1):\n",
    "            ans = [0, 0]\n",
    "            best_dist = 99999999999999\n",
    "            for first in cut[0]:\n",
    "                for second in cut[1]:\n",
    "                    sum_first = sum_vert[first]\n",
    "                    sum_second = sum_vert[second]\n",
    "                    dist = cur_dist + (cnt_edge[first] - sum_first) - sum_first + sum_second - (cnt_edge[second] - sum_second)\n",
    "                    if dist < best_dist:\n",
    "                        best_dist, ans = dist, [first, second]\n",
    "            cut[0].add(ans[1])\n",
    "            cut[0].remove(ans[0])\n",
    "            cut[1].add(ans[0])\n",
    "            cut[1].remove(ans[1])\n",
    "            np_cut[ans[1]] = 0\n",
    "            np_cut[ans[0]] = 1\n",
    "            sum_vert[new_edges[ans[1]]] -= 1\n",
    "            sum_vert[new_edges[ans[0]]] += 1\n",
    "            if best_dist < current:\n",
    "                current = best_dist\n",
    "                res = True\n",
    "                break\n",
    "            else:\n",
    "                cur_dist = best_dist\n",
    "        if res == False:\n",
    "            break\n",
    "    return cut[0]"
   ]
  },
  {
   "cell_type": "code",
   "execution_count": 7,
   "metadata": {
    "collapsed": false
   },
   "outputs": [
    {
     "name": "stdout",
     "output_type": "stream",
     "text": [
      "{1, 4, 5, 6, 8}\n"
     ]
    }
   ],
   "source": [
    "print(basic_local_search(read_col_file(\"myciel3.col\")))"
   ]
  },
  {
   "cell_type": "code",
   "execution_count": 8,
   "metadata": {
    "collapsed": false
   },
   "outputs": [
    {
     "name": "stdout",
     "output_type": "stream",
     "text": [
      "{2, 4, 7, 8, 9, 10, 11, 12, 16, 17, 22}\n"
     ]
    }
   ],
   "source": [
    "print(basic_local_search(read_col_file(\"myciel4.col\")))"
   ]
  },
  {
   "cell_type": "code",
   "execution_count": 9,
   "metadata": {
    "collapsed": false
   },
   "outputs": [
    {
     "name": "stdout",
     "output_type": "stream",
     "text": [
      "{2, 6, 7, 8, 10, 11, 13, 14, 15, 18, 19, 20, 21, 22, 24, 25, 26, 28, 29, 33, 34, 45, 46}\n"
     ]
    }
   ],
   "source": [
    "print(basic_local_search(read_col_file(\"myciel5.col\")))"
   ]
  },
  {
   "cell_type": "code",
   "execution_count": null,
   "metadata": {
    "collapsed": false
   },
   "outputs": [],
   "source": [
    "print(basic_local_search(read_col_file(\"myciel6.col\")))"
   ]
  },
  {
   "cell_type": "code",
   "execution_count": null,
   "metadata": {
    "collapsed": false
   },
   "outputs": [],
   "source": [
    "print(basic_local_search(read_col_file(\"myciel7.col\")))"
   ]
  }
 ],
 "metadata": {
  "kernelspec": {
   "display_name": "Python 3",
   "language": "python",
   "name": "python3"
  },
  "language_info": {
   "codemirror_mode": {
    "name": "ipython",
    "version": 3
   },
   "file_extension": ".py",
   "mimetype": "text/x-python",
   "name": "python",
   "nbconvert_exporter": "python",
   "pygments_lexer": "ipython3",
   "version": "3.6.0"
  }
 },
 "nbformat": 4,
 "nbformat_minor": 2
}
